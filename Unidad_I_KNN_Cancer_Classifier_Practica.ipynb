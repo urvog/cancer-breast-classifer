{
  "cells": [
    {
      "cell_type": "markdown",
      "metadata": {
        "id": "view-in-github",
        "colab_type": "text"
      },
      "source": [
        "<a href=\"https://colab.research.google.com/github/urvog/cancer-breast-classifier/blob/main/Unidad_I_KNN_Cancer_Classifier_Practica.ipynb\" target=\"_parent\"><img src=\"https://colab.research.google.com/assets/colab-badge.svg\" alt=\"Open In Colab\"/></a>"
      ]
    },
    {
      "cell_type": "markdown",
      "metadata": {
        "id": "0fstp7C23kiA"
      },
      "source": [
        "# Practica - Breast Cancer Classifier\n",
        "\n",
        "<img src=\"https://www.neuraldojo.org/media/cancer_classifier.jpg\"\n",
        "     alt=\"Markdown Monster icon\"\n",
        "     style=\"float: left; margin-right: 10px;\" width=\"100%\"/>\n",
        "\n",
        "Descripción:\n",
        "El cáncer de mama es el cáncer más común entre las mujeres en el mundo. Representa el 25 % de todos los casos de cáncer y afectó a más de 2,1 millones de personas solo en 2015. Comienza cuando las células en el seno comienzan a crecer sin control. Estas células generalmente forman tumores que se pueden ver a través de rayos X o sentir como bultos en el área del seno.\n",
        "\n",
        "Los desafíos clave contra su detección es cómo clasificar los tumores en **malignos** (cancerosos) o **benigno**s (no cancerosos). Te pedimos que completes el análisis de la clasificación de estos tumores mediante el aprendizaje automático (con KNN) y el conjunto de datos de Wisconsin (diagnóstico) de cáncer de mama.\n",
        "\n",
        "Dataset:\n",
        "\n",
        "Este conjunto de datos ha sido referido desde Kaggle.\n",
        "https://www.kaggle.com/yasserh/breast-cancer-dataset?select=breast-cancer.csv\n",
        "\n",
        "\n",
        "Objetivo:\n",
        "- Comprender el conjunto de datos y la limpieza (si es necesario).\n",
        "- Cree un modelo de clasificación para predecir si el tipo de cáncer es maligno o benigno.\n",
        "- También ajuste los hiperparámetros si es necesario\n"
      ]
    },
    {
      "cell_type": "code",
      "execution_count": null,
      "metadata": {
        "id": "tfRbP5Lk3gvL"
      },
      "outputs": [],
      "source": [
        "#importamos las librerias\n",
        "\n"
      ]
    },
    {
      "cell_type": "markdown",
      "metadata": {
        "id": "A2zFGJcA7YN8"
      },
      "source": [
        "## 1.- Importación de datos"
      ]
    },
    {
      "cell_type": "code",
      "execution_count": null,
      "metadata": {
        "colab": {
          "base_uri": "https://localhost:8080/"
        },
        "id": "01MxDrYG5gE5",
        "outputId": "0a4a21bc-85b8-4f91-f60b-db092e1c9000"
      },
      "outputs": [
        {
          "output_type": "stream",
          "name": "stdout",
          "text": [
            "--2022-02-21 17:27:31--  https://www.neuraldojo.org/media/cancer/archive.zip\n",
            "Resolving www.neuraldojo.org (www.neuraldojo.org)... 143.95.32.198\n",
            "Connecting to www.neuraldojo.org (www.neuraldojo.org)|143.95.32.198|:443... connected.\n",
            "HTTP request sent, awaiting response... 200 OK\n",
            "Length: 49794 (49K) [application/zip]\n",
            "Saving to: ‘archive.zip’\n",
            "\n",
            "archive.zip         100%[===================>]  48.63K  --.-KB/s    in 0.1s    \n",
            "\n",
            "2022-02-21 17:27:32 (435 KB/s) - ‘archive.zip’ saved [49794/49794]\n",
            "\n",
            "Archive:  archive.zip\n",
            "  inflating: breast-cancer.csv       \n"
          ]
        }
      ],
      "source": [
        "#Importamos el Dataset\n",
        "!wget https://www.neuraldojo.org/media/cancer/archive.zip\n",
        "!unzip archive.zip"
      ]
    },
    {
      "cell_type": "code",
      "execution_count": null,
      "metadata": {
        "colab": {
          "base_uri": "https://localhost:8080/"
        },
        "id": "p_MPoFX_8wpa",
        "outputId": "1a4d9f22-1d65-4d74-c5eb-f743a916875a"
      },
      "outputs": [
        {
          "output_type": "execute_result",
          "data": {
            "text/plain": [
              "(569, 32)"
            ]
          },
          "metadata": {},
          "execution_count": 3
        }
      ],
      "source": [
        "#cargamos los datos en un dataframe\n"
      ]
    },
    {
      "cell_type": "markdown",
      "metadata": {
        "id": "t7Knk4Hc7erT"
      },
      "source": [
        "## 2.- Analisis de los datos (EDA)"
      ]
    },
    {
      "cell_type": "markdown",
      "metadata": {
        "id": "-OISSKFA7lXz"
      },
      "source": [
        "### 2.1 Inspección y Manipulación de los datos"
      ]
    },
    {
      "cell_type": "code",
      "execution_count": null,
      "metadata": {
        "id": "JLLHXksU9T-y"
      },
      "outputs": [],
      "source": [
        "# Genere aqui todas las instrucciones necesarias para la inspeccion y manipulacion los datos"
      ]
    },
    {
      "cell_type": "markdown",
      "metadata": {
        "id": "oK8Y8IaZ7vT0"
      },
      "source": [
        "### 2.2 Verificación de valores nulos"
      ]
    },
    {
      "cell_type": "code",
      "source": [
        "#Genere aqui todas las instrucciones necesarias"
      ],
      "metadata": {
        "id": "KtO2nfVnXzqP"
      },
      "execution_count": null,
      "outputs": []
    },
    {
      "cell_type": "markdown",
      "metadata": {
        "id": "YDxjMeo57zrj"
      },
      "source": [
        "### 2.3 Distribución y correlación de datos"
      ]
    },
    {
      "cell_type": "code",
      "source": [
        "#Genere aqui todas las instrucciones para un mejor entendimiento de los datos"
      ],
      "metadata": {
        "id": "a0Wqsf64X9dJ"
      },
      "execution_count": null,
      "outputs": []
    },
    {
      "cell_type": "markdown",
      "metadata": {
        "id": "lnFg6j6B8Fb6"
      },
      "source": [
        "### 2.4 Division de nuestros datos en Train, Validación y Test"
      ]
    },
    {
      "cell_type": "code",
      "source": [
        "#Genere aqui las instrucciones para dividir nuestro dataset en entrenamiento, validacion y test"
      ],
      "metadata": {
        "id": "ql3SbKVSYEPm"
      },
      "execution_count": null,
      "outputs": []
    },
    {
      "cell_type": "markdown",
      "source": [
        "##3.- Preparamos el Modelo"
      ],
      "metadata": {
        "id": "j6l3tDuRFOGC"
      }
    },
    {
      "cell_type": "code",
      "source": [
        "#Genere aqui todas las instrucciones para generar el modelo utilizando el algoritmo de KNN"
      ],
      "metadata": {
        "id": "FouvYqv3YL2Z"
      },
      "execution_count": null,
      "outputs": []
    },
    {
      "cell_type": "markdown",
      "metadata": {
        "id": "l8SoV0ju8Rxi"
      },
      "source": [
        "## 4.- Evaluamos el Modelo"
      ]
    },
    {
      "cell_type": "code",
      "source": [
        "#Genere aqui todas las instrucciones para evaluar el modelo para entrenamiento, validacion y test"
      ],
      "metadata": {
        "id": "m1Dt--kbYQ3e"
      },
      "execution_count": null,
      "outputs": []
    },
    {
      "cell_type": "markdown",
      "metadata": {
        "id": "5JNd-0318XT7"
      },
      "source": [
        "## 5.- Ajustamos Parametros"
      ]
    },
    {
      "cell_type": "code",
      "source": [
        "#Revise la documentacion de KNN y juegue con algunos parametros disponibles como 'n_neighbors', 'weights' y 'algorithms'. \n",
        "#Para cada nueva configuracion del modelo imprima sus resultados"
      ],
      "metadata": {
        "id": "t6dEGa0ZYWhf"
      },
      "execution_count": null,
      "outputs": []
    },
    {
      "cell_type": "markdown",
      "metadata": {
        "id": "0gJP58VT8cWz"
      },
      "source": [
        "##6.- Realizamos algunas predicciones"
      ]
    },
    {
      "cell_type": "code",
      "source": [
        "#Realice algunas nuevas predicciones"
      ],
      "metadata": {
        "id": "kdO0kx2bYuCd"
      },
      "execution_count": null,
      "outputs": []
    }
  ],
  "metadata": {
    "colab": {
      "name": "Unidad I. KNN Cancer Classifier Practica.ipynb",
      "provenance": [],
      "collapsed_sections": [],
      "toc_visible": true,
      "authorship_tag": "ABX9TyPquon8ozn9w7iunmEqF8lv",
      "include_colab_link": true
    },
    "kernelspec": {
      "display_name": "Python 3",
      "name": "python3"
    },
    "language_info": {
      "name": "python"
    },
    "accelerator": "GPU"
  },
  "nbformat": 4,
  "nbformat_minor": 0
}